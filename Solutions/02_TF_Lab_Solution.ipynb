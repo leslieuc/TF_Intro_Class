{
 "cells": [
  {
   "cell_type": "code",
   "execution_count": 7,
   "metadata": {},
   "outputs": [],
   "source": [
    "import os\n",
    "import numpy as np\n",
    "import tensorflow as tf\n",
    "\n",
    "# Delete previous tensorboard graph\n",
    "if os.path.exists('./tmp/lab2'):\n",
    "    !rm /tmp/lab2/*.*"
   ]
  },
  {
   "cell_type": "markdown",
   "metadata": {},
   "source": [
    "## Using Namescopes, Graphs, and Matrix Manipulation"
   ]
  },
  {
   "cell_type": "markdown",
   "metadata": {},
   "source": [
    "### Exercise -  Create and run a computational graph that does the following:\n",
    "* Under the name scope \"Inputs\":\n",
    "    * Create 3 different 10x10 matrices - `A`, `B`, and `C` each of which are filled with random numbers from a normal gaussian distribution and that have a mean of 1, 3, and 5 respectively.\n",
    "$$$$    \n",
    "* Under the name scope \"Concats\":\n",
    "    * Create matrix `D` by concatenating `A` and `B` along the column dimension\n",
    "    * Create matrix `E` by concatenating `B` and `C` along the column dimension\n",
    "$$$$\n",
    "* Under the name scope \"Split\":\n",
    "    * Create matrices `F` and `G` by splitting matrix B along the row dimension\n",
    "$$$$\n",
    "* Create matrix `H` which should be the column-wise mean of `B`\n",
    "* Matrix I should be the mean of each column of `B` multiplied using broadcasting over `H`\n",
    "$$$$\n",
    "* Print the means of D, E, F and I\n",
    "* Print the shape of E, F, G and H\n",
    "$$$$\n",
    "* For extra credit, add additional names that will provide even further clarification"
   ]
  },
  {
   "cell_type": "code",
   "execution_count": 2,
   "metadata": {},
   "outputs": [],
   "source": [
    "with tf.name_scope(\"Inputs\"):\n",
    "    A = tf.random_normal((10,10),mean=1,name=\"A\")\n",
    "    B = tf.random_normal((10,10),mean=3,name=\"B\")\n",
    "    C = tf.random_normal((10,10),mean=5,name=\"C\")\n",
    "with tf.name_scope(\"Concats\"):\n",
    "    D = tf.concat([A, B],axis=1,name=\"Concat_D\")\n",
    "    E = tf.concat([B, C],axis=1,name=\"Concat_E\")\n",
    "with tf.name_scope(\"Split\"):\n",
    "    F, G = tf.split(axis=0, num_or_size_splits=2, value=B)\n",
    "\n",
    "H = tf.reduce_mean(B,axis=1,name=\"H\")\n",
    "I = tf.multiply(H,C,name=\"I\")\n",
    "\n",
    "D_avg = tf.reduce_mean(D,name=\"D_avg\")\n",
    "E_avg = tf.reduce_mean(E,name=\"E_avg\")\n",
    "F_avg = tf.reduce_mean(F,name=\"F_avg\")\n",
    "I_avg = tf.reduce_mean(I,name=\"I_avg\")"
   ]
  },
  {
   "cell_type": "code",
   "execution_count": 3,
   "metadata": {},
   "outputs": [],
   "source": [
    "with tf.name_scope(\"summaries\"):\n",
    "    tf.summary.scalar(\"D_avg\", D_avg)\n",
    "    tf.summary.scalar(\"E_avg\", E_avg)\n",
    "    tf.summary.scalar(\"I_avg\", I_avg)\n",
    "    merged = tf.summary.merge_all()\n",
    "\n",
    "train_writer = tf.summary.FileWriter('/tmp/lab2', tf.get_default_graph())"
   ]
  },
  {
   "cell_type": "code",
   "execution_count": 4,
   "metadata": {},
   "outputs": [
    {
     "name": "stdout",
     "output_type": "stream",
     "text": [
      "(10, 20) (5, 10) (5, 10) (10,)\n"
     ]
    }
   ],
   "source": [
    "print(E.shape,F.shape,G.shape,H.shape)"
   ]
  },
  {
   "cell_type": "code",
   "execution_count": 5,
   "metadata": {},
   "outputs": [
    {
     "name": "stdout",
     "output_type": "stream",
     "text": [
      "[2.0720127, 3.9367008, 2.897739, 14.572107]\n"
     ]
    }
   ],
   "source": [
    "with tf.Session() as sess:\n",
    "    sess.run([merged,D_avg,E_avg,I])\n",
    "    print(sess.run([D_avg, E_avg, F_avg, I_avg]))"
   ]
  },
  {
   "cell_type": "code",
   "execution_count": 6,
   "metadata": {},
   "outputs": [],
   "source": [
    "#!tensorboard --logdir=/tmp/lab2"
   ]
  },
  {
   "cell_type": "code",
   "execution_count": null,
   "metadata": {},
   "outputs": [],
   "source": []
  }
 ],
 "metadata": {
  "kernelspec": {
   "display_name": "Python 3",
   "language": "python",
   "name": "python3"
  },
  "language_info": {
   "codemirror_mode": {
    "name": "ipython",
    "version": 3
   },
   "file_extension": ".py",
   "mimetype": "text/x-python",
   "name": "python",
   "nbconvert_exporter": "python",
   "pygments_lexer": "ipython3",
   "version": "3.5.2"
  }
 },
 "nbformat": 4,
 "nbformat_minor": 2
}
