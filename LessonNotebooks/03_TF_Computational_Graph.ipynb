{
 "cells": [
  {
   "cell_type": "code",
   "execution_count": 1,
   "metadata": {},
   "outputs": [
    {
     "name": "stderr",
     "output_type": "stream",
     "text": [
      "/usr/local/lib/python3.5/dist-packages/h5py/__init__.py:36: FutureWarning: Conversion of the second argument of issubdtype from `float` to `np.floating` is deprecated. In future, it will be treated as `np.float64 == np.dtype(float).type`.\n",
      "  from ._conv import register_converters as _register_converters\n"
     ]
    }
   ],
   "source": [
    "import tensorflow as tf\n",
    "import matplotlib.pyplot as plt"
   ]
  },
  {
   "cell_type": "markdown",
   "metadata": {},
   "source": [
    "### TensorFlow Computational Graph\n",
    "* TF internally represents its computation using a data flow graph consisting of:\n",
    "    * A set of nodes (operations)\n",
    "    * A set of directed arcs/edges (data on which operations are performed)\n",
    "    \n",
    "* `tf.Graph` represents a collection of tf.Operations\n",
    "* You can create operations by writing out equations.\n",
    "* By default, there is a graph that you can access with: `tf.get_default_graph()` - and any new operations are added to this graph.\n",
    "* The result of a tf Operation is a tf Tensor, which holds the values."
   ]
  },
  {
   "cell_type": "markdown",
   "metadata": {},
   "source": [
    "<img src=\"../pics/computation_graph_explained.jpg\" width=50%>"
   ]
  },
  {
   "cell_type": "markdown",
   "metadata": {},
   "source": [
    "### Example Execution Graph for the equation   $\\ \\ z=d\\ x\\ c\\ =\\ (a+b)\\ x\\ c$"
   ]
  },
  {
   "cell_type": "markdown",
   "metadata": {},
   "source": [
    "<img src=\"../pics/simple_execution_graph.jpg\" width=50%>"
   ]
  },
  {
   "cell_type": "markdown",
   "metadata": {},
   "source": [
    "### Example Execution Graph for the series of equations:\n",
    "$$c\\ =\\ a\\ +\\ b$$\n",
    "$$d\\ =\\ b\\ -\\ 1$$\n",
    "$$e\\ =\\ c\\ x\\ d$$"
   ]
  },
  {
   "cell_type": "markdown",
   "metadata": {},
   "source": [
    "<img src=\"../pics/simple_computation_graph2.png\" width=50%>"
   ]
  },
  {
   "cell_type": "markdown",
   "metadata": {},
   "source": [
    "### Let's see the above graph in TF code"
   ]
  },
  {
   "cell_type": "markdown",
   "metadata": {},
   "source": [
    "#### First set up the nodes and edges in the graph"
   ]
  },
  {
   "cell_type": "code",
   "execution_count": 3,
   "metadata": {},
   "outputs": [],
   "source": [
    "# Remember we use `placeholder` objects to tell TF to wait for data.\n",
    "a = tf.placeholder(tf.float32)\n",
    "b = tf.placeholder(tf.float32)\n",
    "c = tf.add(a,b)\n",
    "d = tf.subtract(b, 1)\n",
    "e = tf.multiply(c, d)"
   ]
  },
  {
   "cell_type": "markdown",
   "metadata": {},
   "source": [
    "#### Now run the graph in a session using a feed_dict to handle input_data"
   ]
  },
  {
   "cell_type": "code",
   "execution_count": 4,
   "metadata": {},
   "outputs": [
    {
     "name": "stdout",
     "output_type": "stream",
     "text": [
      "45.0\n"
     ]
    }
   ],
   "source": [
    "with tf.Session() as sess:\n",
    "    a_data, b_data = 3.0, 6.0\n",
    "    feed_dict = {a: a_data, b: b_data}\n",
    "    output = sess.run(e, feed_dict=feed_dict)\n",
    "    print(output)"
   ]
  },
  {
   "cell_type": "markdown",
   "metadata": {},
   "source": [
    "### Main Components of a TF graph:\n",
    "* **Variables:** Holds the values for weights and biases between TensorFlow sessions.\n",
    "* **Tensors:** Sets of values that pass between nodes to perform operations.\n",
    "* **Placegholders:** Waits for data to come in from the program to the TF graph.\n",
    "* **Session:** When a session is strarted, TF automatically calcualtes gradients for all of the operations in the graph and uses them. A session is invoked for the purpose of executing the graph."
   ]
  },
  {
   "cell_type": "markdown",
   "metadata": {},
   "source": [
    "* https://medium.com/@camrongodbout/tensorflow-in-a-nutshell-part-one-basics-3f4403709c9d\n",
    "* http://camron.xyz/"
   ]
  },
  {
   "cell_type": "markdown",
   "metadata": {},
   "source": [
    "### Multiple Graphs\n",
    "* The operation that we created above was automagically added to the graph in TensorFlow. \n",
    "* There is a default graph that is instantiated when the TF library is imported. \\\n",
    "* Sometimes, we may want to create our own Graph object instead of using the default graph - for instance when creating multiple models in one file that do not depend on each other.\n",
    "* Any variables or operations used outside of the `with new_graph.as_default()` context will be added to the default graph that is created when the library is loaded. \\\n",
    "* You can get a handle to the default graph with `tf.get_default_graph()`\n",
    "* For most cases, it's best to stick to the default graph"
   ]
  },
  {
   "cell_type": "code",
   "execution_count": 5,
   "metadata": {},
   "outputs": [],
   "source": [
    "new_graph = tf.Graph()\n",
    "\n",
    "with new_graph.as_default():\n",
    "    new_g_const = tf.constant([1., 2.])\n",
    "    \n",
    "default_g = tf.get_default_graph()"
   ]
  },
  {
   "cell_type": "markdown",
   "metadata": {},
   "source": [
    "### Session Objects\n",
    "* `tf.Session()` is the main TF session object\n",
    "* `tf.InteractiveSession()` easier to use in Jupyter Notebooks for prototyping\n",
    "* There is also the new eager execution mode, which does away with the need for Session objects"
   ]
  },
  {
   "cell_type": "markdown",
   "metadata": {},
   "source": [
    "#### tf.Session()\n",
    "* Creates an environment in which operations and tensors are evaluated and executed.\n",
    "* Sessions allocate for their own variables, queus and readers.\n",
    "* It's important to use the `close()` method when the session is over (or use a context manager).\n",
    "* Three arguments for a `Session`, all optional.\n",
    "    1. target - The execution engine to connect to.\n",
    "    2. graph - The Graph to be launched.\n",
    "    3. config - A ConfigProto protocol buffer with configuration options for the session."
   ]
  },
  {
   "cell_type": "code",
   "execution_count": 6,
   "metadata": {},
   "outputs": [
    {
     "name": "stdout",
     "output_type": "stream",
     "text": [
      "3\n"
     ]
    }
   ],
   "source": [
    "a = tf.constant(1)\n",
    "b = tf.constant(2)\n",
    "c = a + b\n",
    "sess = tf.Session()\n",
    "print(sess.run(c))\n",
    "sess.close()"
   ]
  },
  {
   "cell_type": "markdown",
   "metadata": {},
   "source": [
    "#### tf.InteractiveSession()\n",
    "* Exactly the same as `tf.Session()` but you don't have to explicitly pass the Session object.\n",
    "* Targeted for use with Jupyter notebooks and allows you to use Tensor.eval() and Operation.run() instead of having to do Session.run() every time you want something computed.\n",
    "* Will likely be replaced by eager mode in most situations over time, which we will get into later."
   ]
  },
  {
   "cell_type": "code",
   "execution_count": 7,
   "metadata": {},
   "outputs": [
    {
     "name": "stdout",
     "output_type": "stream",
     "text": [
      "3\n"
     ]
    }
   ],
   "source": [
    "sess = tf.InteractiveSession()\n",
    "a = tf.constant(1)\n",
    "b = tf.constant(2)\n",
    "c = a + b\n",
    "\n",
    "#print(sess.run(c))\n",
    "print(c.eval()) # instead of sess.run(c)\n",
    "sess.close()"
   ]
  },
  {
   "cell_type": "markdown",
   "metadata": {},
   "source": [
    "### Variables again\n",
    "* Variables in TensorFlow are managed by the Session. \n",
    "* They persist between sessions which are useful because Tensor and Operation objects are immutable. \n",
    "* Variables can be created by tf.Variable().\n",
    "* It is often helpful to name them, so that you can keep track of them in your computation graph.\n",
    "* Most of the time, you'll want to create these variables as tensors of zeros, ones, or random values, giving the function a shape parameter - e.g. [2, 2, 2] for a 2x2x2 matrix\n",
    "    * `tf.zeros()` — creates a matrix full of zeros\n",
    "    * `tf.ones()` — creates a matrix full of ones\n",
    "    * `tf.random_normal()` — a matrix with random uniform values between an interval\n",
    "    * `tf.random_uniform()` — random normally distributed numbers\n",
    "    * `tf.truncated_normal()` — same as random normal but doesn’t include any numbers more than 2 standard deviations."
   ]
  },
  {
   "cell_type": "code",
   "execution_count": 9,
   "metadata": {},
   "outputs": [],
   "source": [
    "# set a variable with an initial value of 1\n",
    "tensorflow_var = tf.Variable(1, name=\"my_variable\")\n",
    "\n",
    "# 4x4x4 matrix normally distributed mean 0 std 1\n",
    "normal = tf.truncated_normal([4, 4, 4], mean=0.0, stddev=1.0)\n",
    "\n",
    "# setting the above up as a variable\n",
    "normal_var = tf.Variable(tf.truncated_normal([4,4,4] , mean=0.0, stddev=1.0))"
   ]
  },
  {
   "cell_type": "markdown",
   "metadata": {},
   "source": [
    "To have these variables initialized you must use TensorFlow’s variable initialization function then pass it to the session. This way when multiple sessions are ran the variables are the same."
   ]
  },
  {
   "cell_type": "code",
   "execution_count": 10,
   "metadata": {},
   "outputs": [],
   "source": [
    "init = tf.global_variables_initializer()\n",
    "sess = tf.Session()\n",
    "sess.run(init)"
   ]
  },
  {
   "cell_type": "markdown",
   "metadata": {},
   "source": [
    "If you’d like to completely change the value of a variable you can use Variable.assign() operation, this must be run in a session update the value."
   ]
  },
  {
   "cell_type": "code",
   "execution_count": 11,
   "metadata": {},
   "outputs": [
    {
     "data": {
      "text/plain": [
       "2"
      ]
     },
     "execution_count": 11,
     "metadata": {},
     "output_type": "execute_result"
    }
   ],
   "source": [
    "initial_var = tf.Variable(1)\n",
    "changed_var = initial_var.assign(initial_var + initial_var)\n",
    "init = tf.global_variables_initializer()\n",
    "sess = tf.Session()\n",
    "sess.run(init)\n",
    "sess.run(changed_var)\n",
    "# 2"
   ]
  },
  {
   "cell_type": "code",
   "execution_count": 12,
   "metadata": {},
   "outputs": [
    {
     "data": {
      "text/plain": [
       "4"
      ]
     },
     "execution_count": 12,
     "metadata": {},
     "output_type": "execute_result"
    }
   ],
   "source": [
    "sess.run(changed_var)\n",
    "# 4"
   ]
  },
  {
   "cell_type": "code",
   "execution_count": 13,
   "metadata": {},
   "outputs": [
    {
     "data": {
      "text/plain": [
       "8"
      ]
     },
     "execution_count": 13,
     "metadata": {},
     "output_type": "execute_result"
    }
   ],
   "source": [
    "sess.run(changed_var)\n",
    "# 8"
   ]
  },
  {
   "cell_type": "code",
   "execution_count": 14,
   "metadata": {},
   "outputs": [],
   "source": [
    "sess.close()"
   ]
  },
  {
   "cell_type": "markdown",
   "metadata": {},
   "source": [
    "#### Counters inside a TF graph\n",
    "* Sometimes you might want to add a counter inside your model which can be done using the `Variable.assign_add()` method which takes a numeric parameter and increments it by the parameter. \n",
    "* Similarly there is `Variable.assign_sub()`."
   ]
  },
  {
   "cell_type": "code",
   "execution_count": 15,
   "metadata": {},
   "outputs": [],
   "source": [
    "counter = tf.Variable(0)"
   ]
  },
  {
   "cell_type": "code",
   "execution_count": 18,
   "metadata": {},
   "outputs": [
    {
     "data": {
      "text/plain": [
       "1"
      ]
     },
     "execution_count": 18,
     "metadata": {},
     "output_type": "execute_result"
    }
   ],
   "source": [
    "sess = tf.Session()\n",
    "sess.run(tf.global_variables_initializer())\n",
    "sess.run(init)\n",
    "sess.run(counter.assign_add(1))\n",
    "# 1"
   ]
  },
  {
   "cell_type": "code",
   "execution_count": 19,
   "metadata": {},
   "outputs": [
    {
     "data": {
      "text/plain": [
       "0"
      ]
     },
     "execution_count": 19,
     "metadata": {},
     "output_type": "execute_result"
    }
   ],
   "source": [
    "sess.run(counter.assign_sub(1))\n",
    "# back to 0"
   ]
  },
  {
   "cell_type": "code",
   "execution_count": 20,
   "metadata": {},
   "outputs": [],
   "source": [
    "sess.close()"
   ]
  },
  {
   "cell_type": "markdown",
   "metadata": {},
   "source": [
    "### Scope\n",
    "* To control the complexity of models and make them easier to break down into individual pieces TensorFlow has scopes. \n",
    "* Scopes are very simple and even help break down your model when using TensorBoard (which will be covered soon). \n",
    "* Scopes can even be nested inside of other scopes."
   ]
  },
  {
   "cell_type": "code",
   "execution_count": 23,
   "metadata": {},
   "outputs": [],
   "source": [
    "tf.reset_default_graph()\n",
    "with tf.name_scope(\"Scope1\"):\n",
    "    with tf.name_scope(\"Scope_nested\"):\n",
    "        nested_var = tf.multiply(5, 5)"
   ]
  },
  {
   "cell_type": "code",
   "execution_count": 24,
   "metadata": {},
   "outputs": [
    {
     "data": {
      "text/plain": [
       "[<tf.Operation 'Scope1/Scope_nested/Mul/x' type=Const>,\n",
       " <tf.Operation 'Scope1/Scope_nested/Mul/y' type=Const>,\n",
       " <tf.Operation 'Scope1/Scope_nested/Mul' type=Mul>]"
      ]
     },
     "execution_count": 24,
     "metadata": {},
     "output_type": "execute_result"
    }
   ],
   "source": [
    "tf.get_default_graph().get_operations()"
   ]
  },
  {
   "cell_type": "markdown",
   "metadata": {},
   "source": [
    "### Variable Scope"
   ]
  },
  {
   "cell_type": "code",
   "execution_count": 22,
   "metadata": {},
   "outputs": [],
   "source": [
    "with tf.variable_scope(\"foo\"):\n",
    "    with tf.variable_scope(\"bar\"):\n",
    "        v = tf.get_variable(\"v\", [1])\n",
    "\n",
    "assert v.name == \"foo/bar/v:0\""
   ]
  },
  {
   "cell_type": "code",
   "execution_count": 23,
   "metadata": {},
   "outputs": [],
   "source": [
    "with tf.variable_scope(\"foo\"):\n",
    "    v = tf.get_variable(\"v\", [1])\n",
    "    tf.get_variable_scope().reuse_variables()\n",
    "    v1 = tf.get_variable(\"v\", [1])\n",
    "\n",
    "assert v1 == v"
   ]
  },
  {
   "cell_type": "code",
   "execution_count": 24,
   "metadata": {},
   "outputs": [],
   "source": [
    "tf.reset_default_graph()\n",
    "with tf.variable_scope(\"foo\"):\n",
    "    v = tf.get_variable(\"v\", [1])\n",
    "    \n",
    "assert v.name == \"foo/v:0\""
   ]
  },
  {
   "cell_type": "code",
   "execution_count": 82,
   "metadata": {},
   "outputs": [
    {
     "name": "stdout",
     "output_type": "stream",
     "text": [
      "foo/v:0\n",
      "foo/v:0\n"
     ]
    }
   ],
   "source": [
    "tf.reset_default_graph()\n",
    "with tf.variable_scope(\"foo\"):\n",
    "    v = tf.get_variable(\"v\", [1])\n",
    "with tf.variable_scope(\"foo\", reuse=True):\n",
    "    v1 = tf.get_variable(\"v\", [1])\n",
    "    \n",
    "print(v.name)\n",
    "print(v1.name)\n",
    "assert v1 == v"
   ]
  },
  {
   "cell_type": "markdown",
   "metadata": {},
   "source": [
    "### Name Scope and Variable Scope"
   ]
  },
  {
   "cell_type": "code",
   "execution_count": null,
   "metadata": {},
   "outputs": [],
   "source": [
    "with tf.name_scope(\"my_scope\"):\n",
    "    v1 = tf.get_variable(\"var1\", [1], dtype=tf.float32)\n",
    "    v2 = tf.Variable(1, name=\"var2\", dtype=tf.float32)\n",
    "    a = tf.add(v1, v2)\n",
    "\n",
    "print(v1.name)  # var1:0\n",
    "print(v2.name)  # my_scope/var2:0\n",
    "print(a.name)   # my_scope/Add:0"
   ]
  },
  {
   "cell_type": "code",
   "execution_count": 83,
   "metadata": {},
   "outputs": [
    {
     "name": "stdout",
     "output_type": "stream",
     "text": [
      "my_scope/var1:0\n",
      "my_scope/var2:0\n",
      "my_scope/Add:0\n"
     ]
    }
   ],
   "source": [
    "with tf.variable_scope(\"my_scope\"):\n",
    "    v1 = tf.get_variable(\"var1\", [1], dtype=tf.float32)\n",
    "    v2 = tf.Variable(1, name=\"var2\", dtype=tf.float32)\n",
    "    a = tf.add(v1, v2)\n",
    "\n",
    "print(v1.name)  # my_scope/var1:0\n",
    "print(v2.name)  # my_scope/var2:0\n",
    "print(a.name)   # my_scope/Add:0"
   ]
  },
  {
   "cell_type": "code",
   "execution_count": 84,
   "metadata": {},
   "outputs": [
    {
     "name": "stdout",
     "output_type": "stream",
     "text": [
      "var_scope/var:0\n",
      "var_scope/var:0\n"
     ]
    }
   ],
   "source": [
    "with tf.name_scope(\"foo\"):\n",
    "    with tf.variable_scope(\"var_scope\"):\n",
    "        v = tf.get_variable(\"var\", [1])\n",
    "with tf.name_scope(\"bar\"):\n",
    "    with tf.variable_scope(\"var_scope\", reuse=True):\n",
    "        v1 = tf.get_variable(\"var\", [1])\n",
    "assert v1 == v\n",
    "print(v.name)   # var_scope/var:0\n",
    "print(v1.name)  # var_scope/var:0"
   ]
  },
  {
   "cell_type": "code",
   "execution_count": null,
   "metadata": {},
   "outputs": [],
   "source": []
  }
 ],
 "metadata": {
  "kernelspec": {
   "display_name": "Python 3",
   "language": "python",
   "name": "python3"
  },
  "language_info": {
   "codemirror_mode": {
    "name": "ipython",
    "version": 3
   },
   "file_extension": ".py",
   "mimetype": "text/x-python",
   "name": "python",
   "nbconvert_exporter": "python",
   "pygments_lexer": "ipython3",
   "version": "3.5.2"
  }
 },
 "nbformat": 4,
 "nbformat_minor": 2
}
