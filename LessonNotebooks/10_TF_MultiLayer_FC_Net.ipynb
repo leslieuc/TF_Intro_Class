{
 "cells": [
  {
   "cell_type": "code",
   "execution_count": 1,
   "metadata": {},
   "outputs": [
    {
     "name": "stderr",
     "output_type": "stream",
     "text": [
      "/usr/local/lib/python3.5/dist-packages/h5py/__init__.py:36: FutureWarning: Conversion of the second argument of issubdtype from `float` to `np.floating` is deprecated. In future, it will be treated as `np.float64 == np.dtype(float).type`.\n",
      "  from ._conv import register_converters as _register_converters\n"
     ]
    },
    {
     "name": "stdout",
     "output_type": "stream",
     "text": [
      "rm: cannot remove 'tmp/log_sigmoid/*.*': No such file or directory\n",
      "Extracting data/train-images-idx3-ubyte.gz\n",
      "Extracting data/train-labels-idx1-ubyte.gz\n",
      "Extracting data/t10k-images-idx3-ubyte.gz\n",
      "Extracting data/t10k-labels-idx1-ubyte.gz\n"
     ]
    }
   ],
   "source": [
    "import tensorflow as tf\n",
    "from tensorflow.examples.tutorials.mnist import input_data\n",
    "import math\n",
    "\n",
    "from tensorflow.python.framework import ops\n",
    "import warnings\n",
    "import random\n",
    "import os\n",
    "\n",
    "warnings.filterwarnings(\"ignore\")\n",
    "os.environ['TF_CPP_MIN_LOG_LEVEL'] = '3'\n",
    "\n",
    "logs_path = 'tmp/log_sigmoid/' # logging path\n",
    "\n",
    "# Delete previous tensorboard graph\n",
    "if os.path.exists('tmp/log_sigmoid'):\n",
    "    !rm tmp/log_sigmoid/*.*\n",
    "\n",
    "dataPath = \"data/\"\n",
    "\n",
    "if not os.path.exists(dataPath):\n",
    "    os.makedirs(dataPath)\n",
    "    \n",
    "mnist = input_data.read_data_sets(dataPath, one_hot=True) # MNIST dataset to be downloaded "
   ]
  },
  {
   "cell_type": "code",
   "execution_count": 2,
   "metadata": {},
   "outputs": [],
   "source": [
    "X = tf.placeholder(tf.float32, [None, 784], name='InputData') # mnist data image of shape 28*28=784\n",
    "XX = tf.reshape(X, [-1, 784]) # reshape input\n",
    "Y_ = tf.placeholder(tf.float32, [None, 10], name='LabelData') # 0-9 digits recognition => 10 classes\n",
    "\n",
    "L = 200 # number of neurons in layer 1\n",
    "M = 100 # number of neurons in layer 2\n",
    "N = 60 # number of neurons in layer 3\n",
    "O = 30 # number of neurons in layer 4\n",
    "\n",
    "W1 = tf.Variable(tf.truncated_normal([784, L], stddev=0.1)) # Initialize random weights for the hidden layer 1 \n",
    "B1 = tf.Variable(tf.zeros([L])) # Bias vector for layer 1\n",
    "\n",
    "W2 = tf.Variable(tf.truncated_normal([L, M], stddev=0.1)) # Initialize random weights for the hidden layer 2 \n",
    "B2 = tf.Variable(tf.ones([M])) # Bias vector for layer 2\n",
    "\n",
    "W3 = tf.Variable(tf.truncated_normal([M, N], stddev=0.1)) # Initialize random weights for the hidden layer 3 \n",
    "B3 = tf.Variable(tf.ones([N])) # Bias vector for layer 3\n",
    "\n",
    "W4 = tf.Variable(tf.truncated_normal([N, O], stddev=0.1)) # Initialize random weights for the hidden layer 4\n",
    "B4 = tf.Variable(tf.ones([O])) # Bias vector for layer 4\n",
    "\n",
    "W5 = tf.Variable(tf.truncated_normal([O, 10], stddev=0.1)) # Initialize random weights for the hidden layer 5 \n",
    "B5 = tf.Variable(tf.ones([10])) # Bias vector for layer 5\n",
    "\n",
    "Y1 = tf.nn.sigmoid(tf.matmul(XX, W1) + B1) # Output from layer 1\n",
    "Y2 = tf.nn.sigmoid(tf.matmul(Y1, W2) + B2) # Output from layer 2\n",
    "Y3 = tf.nn.sigmoid(tf.matmul(Y2, W3) + B3) # Output from layer 3\n",
    "Y4 = tf.nn.sigmoid(tf.matmul(Y3, W4) + B4) # Output from layer 4\n",
    "\n",
    "Ylogits = tf.matmul(Y4, W5) + B5 # computing the logits\n",
    "Y = tf.nn.softmax(Ylogits) # output from layer 5\n",
    "\n",
    "# use tf.nn.softmax_cross_entropy_with_logits_v2 in later version of tf\n",
    "cross_entropy = tf.nn.softmax_cross_entropy_with_logits(logits=Ylogits, labels=Y_) # final outcome using softmax cross entropy \n",
    "cost_op = tf.reduce_mean(cross_entropy)*100\n",
    "\n",
    "correct_prediction = tf.equal(tf.argmax(Y, 1), tf.argmax(Y_, 1))\n",
    "accuracy = tf.reduce_mean(tf.cast(correct_prediction, tf.float32))"
   ]
  },
  {
   "cell_type": "code",
   "execution_count": 3,
   "metadata": {},
   "outputs": [],
   "source": [
    "learning_rate = 0.003 # Learning rate \n",
    "\n",
    "# Optimization op (backprop)\n",
    "train_op = tf.train.AdamOptimizer(learning_rate).minimize(cost_op)\n",
    "\n",
    "# Initialize the variables (i.e. assign their default value)\n",
    "init_op = tf.global_variables_initializer()\n",
    "\n",
    "# Construct model and encapsulating all ops into scopes, making Tensorboard's Graph visualization more convenient\n",
    "\n",
    "# Create a summary to monitor cost tensor\n",
    "tf.summary.scalar(\"cost\", cost_op)\n",
    "\n",
    "# Create a summary to monitor accuracy tensor\n",
    "tf.summary.scalar(\"accuracy\", accuracy)\n",
    "\n",
    "# Merge all summaries into a single op\n",
    "summary_op = tf.summary.merge_all()"
   ]
  },
  {
   "cell_type": "code",
   "execution_count": 4,
   "metadata": {},
   "outputs": [
    {
     "name": "stdout",
     "output_type": "stream",
     "text": [
      "Epoch: 0  Cost= 1.2161  Accuracy = 0.94\n",
      "Epoch: 1  Cost= 0.9730  Accuracy = 0.96\n",
      "Epoch: 2  Cost= 0.8631  Accuracy = 0.96\n",
      "Epoch: 3  Cost= 0.7962  Accuracy = 0.97\n",
      "Epoch: 4  Cost= 0.7493  Accuracy = 0.97\n",
      "Epoch: 5  Cost= 0.7153  Accuracy = 0.97\n",
      "Epoch: 6  Cost= 0.6905  Accuracy = 0.97\n",
      "Epoch: 7  Cost= 0.6712  Accuracy = 0.97\n",
      "Epoch: 8  Cost= 0.6555  Accuracy = 0.97\n",
      "Epoch: 9  Cost= 0.6423  Accuracy = 0.97\n",
      "Optimization Finished!\n",
      "Accuracy:  0.9727\n"
     ]
    }
   ],
   "source": [
    "batch_size = 100 # batch size while performing traing \n",
    "training_epochs = 10 # traing epoch \n",
    "display_epoch = batch_size\n",
    "\n",
    "with tf.Session() as sess:\n",
    "\t# Run the initializer\n",
    "    sess.run(init_op) \n",
    "    \n",
    "    avg_cost = 0. \n",
    "    \n",
    "    # op to write logs to Tensorboard\n",
    "    writer = tf.summary.FileWriter(logs_path, graph=tf.get_default_graph()) \n",
    "    \n",
    "    for epoch in range(training_epochs):\n",
    "        batch_count = int(mnist.train.num_examples/batch_size)\n",
    "        for i in range(batch_count):\n",
    "            batch_x, batch_y = mnist.train.next_batch(batch_size)\n",
    "            _,c,summary = sess.run([train_op, cost_op, summary_op], feed_dict={X: batch_x, Y_: batch_y})\n",
    "            writer.add_summary(summary, epoch * batch_count + i)\n",
    "\n",
    "            # Compute average loss\n",
    "            avg_cost += c / batch_count\n",
    "\n",
    "            # Display logs per epoch step\n",
    "            if (epoch+1) % display_epoch == 0:\n",
    "                print(\"Epoch:\", '%04d' % (epoch+1), \"cost=\", \"{:.9f}\".format(avg_cost))\n",
    "        \n",
    "        acc = accuracy.eval(feed_dict={X: mnist.test.images, Y_: mnist.test.labels})\n",
    "        # doing reciprocal just for display purposes\n",
    "        print(\"Epoch: {}  Cost= {:.4f}  Accuracy = {:.2f}\".format(epoch, (1/avg_cost)*100, acc))\n",
    "\n",
    "    print(\"Optimization Finished!\")             \n",
    "    print(\"Accuracy: \", accuracy.eval(feed_dict={X: mnist.test.images, Y_: mnist.test.labels}))"
   ]
  },
  {
   "cell_type": "code",
   "execution_count": 5,
   "metadata": {},
   "outputs": [],
   "source": [
    "#!tensorboard --logdir=tmp/log_sigmoid/"
   ]
  },
  {
   "cell_type": "code",
   "execution_count": null,
   "metadata": {},
   "outputs": [],
   "source": []
  }
 ],
 "metadata": {
  "kernelspec": {
   "display_name": "Python 3",
   "language": "python",
   "name": "python3"
  },
  "language_info": {
   "codemirror_mode": {
    "name": "ipython",
    "version": 3
   },
   "file_extension": ".py",
   "mimetype": "text/x-python",
   "name": "python",
   "nbconvert_exporter": "python",
   "pygments_lexer": "ipython3",
   "version": "3.5.2"
  }
 },
 "nbformat": 4,
 "nbformat_minor": 2
}
