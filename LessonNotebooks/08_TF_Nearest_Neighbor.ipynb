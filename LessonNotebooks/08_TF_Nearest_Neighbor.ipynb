{
 "cells": [
  {
   "cell_type": "markdown",
   "metadata": {},
   "source": [
    "# Nearest Neighbor Methods\n",
    "\n",
    "<img src='../pics/kNN-1.png' width=300px/>\n",
    "\n",
    "* Nearest neighbor methods typically use the training set as the model and make predictions on new points based on how close they are to points in the training set. \n",
    "* In its simplest form, you could simply set your prediction to be the class of the closest training data point.\n",
    "* But, since most datasets are noisy, the most common method nearest neighbor method is to take a weighted average of a set of k nearest neighbors (KNN).\n",
    "* Given a training dataset (x1, x2, ..., xn),  with corresponding targets (y1, y2, ..., yn), we can make a prediction on a point, z, by looking at a set of nearest neighbors. The actual method of prediction depends on whether or not we are doing regression (continuous y) or classification (discrete y).\n",
    "* For discrete classification targets, the prediction may be given by a maximum voting scheme weighted by the distance to the prediction point:\n",
    "\n",
    "**_prediction(z) = max ( weighted sum of distances of points in each class )_**\n",
    "\n",
    "* Here, our prediction is the maximum weighted value over all classes $\\mathrm{(j)}$, where the weighted distance from the prediction point is usually given by the L1 or L2 distance functions.\n",
    "* Continuous targets are very similar, but we usually just compute a weighted average of the target variable $\\mathrm{(y)}$ by distance.\n",
    "* There are many different specifications of distance metrics that we can choose, with the L1 and L2 metrics some of the most common.\n",
    "* We also have to choose how to weight the distances. A straightforward way to weight the distances is by the distance itself. Points that are further away from our prediction should have less impact than nearer points. The most common way to weight is by the normalized inverse of the distance. \n",
    "* Note that k-NN is an aggregating method. For regression, we are performing a weighted average of neighbors. Because of this, predictions will be less extreme and less varied than the actual targets. The magnitude of this effect will be determined by k, the number of neighbors in the algorithm."
   ]
  },
  {
   "cell_type": "markdown",
   "metadata": {},
   "source": [
    "### Data:\n",
    "We will use the 1970s Boston housing dataset which is available through the UCI ML data repository. \n",
    "\n",
    "----------x-values-----------\n",
    "* CRIM   : per capita crime rate by town\n",
    "* ZN     : prop. of res. land zones\n",
    "* INDUS  : prop. of non-retail business acres\n",
    "* CHAS   : Charles river dummy variable\n",
    "* NOX    : nitrix oxides concentration / 10 M\n",
    "* RM     : Avg. # of rooms per building\n",
    "* AGE    : prop. of buildings built prior to 1940\n",
    "* DIS    : Weighted distances to employment centers\n",
    "* RAD    : Index of radian highway access\n",
    "* TAX    : Full tax rate value per $10k\n",
    "* PTRATIO: Pupil/Teacher ratio by town\n",
    "* B      : 1000*(Bk-0.63)^2, Bk=prop. of blacks\n",
    "* LSTAT  : % lower status of pop\n",
    "\n",
    "------------y-value-----------\n",
    "* MEDV   : Median Value of homes in $1,000's"
   ]
  },
  {
   "cell_type": "code",
   "execution_count": 1,
   "metadata": {},
   "outputs": [
    {
     "name": "stderr",
     "output_type": "stream",
     "text": [
      "/usr/local/lib/python3.5/dist-packages/h5py/__init__.py:36: FutureWarning: Conversion of the second argument of issubdtype from `float` to `np.floating` is deprecated. In future, it will be treated as `np.float64 == np.dtype(float).type`.\n",
      "  from ._conv import register_converters as _register_converters\n"
     ]
    }
   ],
   "source": [
    "import matplotlib.pyplot as plt\n",
    "import numpy as np\n",
    "import tensorflow as tf\n",
    "import requests\n",
    "tf.reset_default_graph()"
   ]
  },
  {
   "cell_type": "markdown",
   "metadata": {},
   "source": [
    "### Load data\n",
    "* Note that we're only using certain columns for prediction - e.g. we're not using id variables or variables with very low variance"
   ]
  },
  {
   "cell_type": "code",
   "execution_count": 2,
   "metadata": {},
   "outputs": [],
   "source": [
    "housing_url = 'https://archive.ics.uci.edu/ml/machine-learning-databases/housing/housing.data'\n",
    "housing_header = ['CRIM', 'ZN', 'INDUS', 'CHAS', 'NOX', 'RM', 'AGE', 'DIS', 'RAD', 'TAX', 'PTRATIO', 'B', 'LSTAT', 'MEDV']\n",
    "cols_used = ['CRIM', 'INDUS', 'NOX', 'RM', 'AGE', 'DIS', 'TAX', 'PTRATIO', 'B', 'LSTAT']\n",
    "num_features = len(cols_used)\n",
    "housing_file = requests.get(housing_url)\n",
    "housing_data = [[float(x) for x in y.split(' ') if len(x)>=1] for y in housing_file.text.split('\\n') if len(y)>=1]\n",
    "\n",
    "y_vals = np.transpose([np.array([y[13] for y in housing_data])])\n",
    "x_vals = np.array([[x for i,x in enumerate(y) if housing_header[i] in cols_used] for y in housing_data])\n",
    "\n",
    "## Min-Max Scaling - scaling between 0 and 1\n",
    "x_vals = (x_vals - x_vals.min(0)) / x_vals.ptp(0)"
   ]
  },
  {
   "cell_type": "markdown",
   "metadata": {},
   "source": [
    "### Split into train and test sets"
   ]
  },
  {
   "cell_type": "code",
   "execution_count": 3,
   "metadata": {},
   "outputs": [],
   "source": [
    "np.random.seed(13)  #make results reproducible\n",
    "train_indices = np.random.choice(len(x_vals), round(len(x_vals)*0.831), replace=False)\n",
    "test_indices = np.array(list(set(range(len(x_vals))) - set(train_indices)))\n",
    "x_vals_train = x_vals[train_indices]\n",
    "x_vals_test = x_vals[test_indices]\n",
    "y_vals_train = y_vals[train_indices]\n",
    "y_vals_test = y_vals[test_indices]"
   ]
  },
  {
   "cell_type": "code",
   "execution_count": 4,
   "metadata": {},
   "outputs": [
    {
     "name": "stdout",
     "output_type": "stream",
     "text": [
      "(420, 10) (86, 10) (420, 1) (86, 1)\n"
     ]
    }
   ],
   "source": [
    "print(x_vals_train.shape, x_vals_test.shape,y_vals_train.shape,y_vals_test.shape)"
   ]
  },
  {
   "cell_type": "markdown",
   "metadata": {},
   "source": [
    "### Set up placeholders"
   ]
  },
  {
   "cell_type": "code",
   "execution_count": 5,
   "metadata": {},
   "outputs": [],
   "source": [
    "# Declare k-value and batch size\n",
    "k = 4\n",
    "# batch size must divide evenly into the length of the test set\n",
    "batch_size= 2 #len(x_vals_test)\n",
    "\n",
    "# Create graph\n",
    "sess = tf.Session()\n",
    "\n",
    "# Placeholders\n",
    "x_data_train = tf.placeholder(shape=[None, num_features], dtype=tf.float32)\n",
    "x_data_test = tf.placeholder(shape=[None, num_features], dtype=tf.float32)\n",
    "y_target_train = tf.placeholder(shape=[None, 1], dtype=tf.float32)\n",
    "y_target_test = tf.placeholder(shape=[None, 1], dtype=tf.float32)"
   ]
  },
  {
   "cell_type": "markdown",
   "metadata": {},
   "source": [
    "### Define Simple Distance Metric"
   ]
  },
  {
   "cell_type": "code",
   "execution_count": 6,
   "metadata": {},
   "outputs": [],
   "source": [
    "# L1\n",
    "distance = tf.reduce_sum(tf.abs(tf.subtract(x_data_train, tf.expand_dims(x_data_test,1))), axis=2)\n",
    "\n",
    "# L2\n",
    "#distance = tf.sqrt(tf.reduce_sum(tf.square(tf.subtract(x_data_train, tf.expand_dims(x_data_test,1))), reduction_indices=1))"
   ]
  },
  {
   "cell_type": "markdown",
   "metadata": {},
   "source": [
    "### Define Weighted Distance Metric\n",
    "* Here we scale the distance functions for each feature by a factor of its standard deviation, which gives a more accurate view of which points are the \"closest\" neighbors or not.\n",
    "* This scaling factor can also be used to down-weight or up-weight features in the nearest neighbor distance calculation, which can be useful in situations where we trust some features more or less than others."
   ]
  },
  {
   "cell_type": "markdown",
   "metadata": {},
   "source": [
    "#### Create distance metric weight matrix weighted by standard deviation"
   ]
  },
  {
   "cell_type": "code",
   "execution_count": 7,
   "metadata": {},
   "outputs": [],
   "source": [
    "weight_diagonal = x_vals.std(0)\n",
    "weight_matrix = tf.cast(tf.diag(weight_diagonal), dtype=tf.float32)"
   ]
  },
  {
   "cell_type": "markdown",
   "metadata": {},
   "source": [
    "#### Declare weighted distance metric\n",
    "$$L2 = \\sqrt{(x-y)^T * A * (x-y)}$$\n",
    "* Break the distance function into components for readability.\n",
    "* We need to tile the weight matrix by the batch size so we use the `batch_matmul()` function to perform batch matrix multiplication across the batch size."
   ]
  },
  {
   "cell_type": "code",
   "execution_count": 8,
   "metadata": {},
   "outputs": [],
   "source": [
    "subtraction_term =  tf.subtract(x_data_train, tf.expand_dims(x_data_test,1))\n",
    "first_product = tf.matmul(subtraction_term, tf.tile(tf.expand_dims(weight_matrix,0), [batch_size,1,1]))\n",
    "second_product = tf.matmul(first_product, tf.transpose(subtraction_term, perm=[0,2,1]))\n",
    "distance = tf.sqrt(tf.matrix_diag_part(second_product))"
   ]
  },
  {
   "cell_type": "markdown",
   "metadata": {},
   "source": [
    "### Find minimum distance for prediction\n",
    "* After calculating all the training distances for each test point, we need to return the top k nearest neighbors, which we do with the `top_k()` function.\n",
    "* Since the `top_k` function returns the largest values, and we want the smallest distances, we return the largest of the negative distance values.\n",
    "* We then want make predictions as the weighted average of the distances of the top k neighbors."
   ]
  },
  {
   "cell_type": "code",
   "execution_count": 18,
   "metadata": {},
   "outputs": [
    {
     "name": "stdout",
     "output_type": "stream",
     "text": [
      "Batch #1 MSE: 5.732\n",
      "Batch #2 MSE: 1.187\n",
      "Batch #3 MSE: 0.742\n",
      "Batch #4 MSE: 1.135\n",
      "Batch #5 MSE: 1.23\n",
      "Batch #6 MSE: 6.432\n",
      "Batch #7 MSE: 10.732\n",
      "Batch #8 MSE: 3.762\n",
      "Batch #9 MSE: 1.553\n",
      "Batch #10 MSE: 0.356\n",
      "Batch #11 MSE: 8.375\n",
      "Batch #12 MSE: 5.004\n",
      "Batch #13 MSE: 9.412\n",
      "Batch #14 MSE: 51.453\n",
      "Batch #15 MSE: 8.653\n",
      "Batch #16 MSE: 29.837\n",
      "Batch #17 MSE: 5.902\n",
      "Batch #18 MSE: 18.097\n",
      "Batch #19 MSE: 4.053\n",
      "Batch #20 MSE: 11.295\n",
      "Batch #21 MSE: 147.843\n",
      "Batch #22 MSE: 76.543\n",
      "Batch #23 MSE: 7.055\n",
      "Batch #24 MSE: 1.963\n",
      "Batch #25 MSE: 9.016\n",
      "Batch #26 MSE: 13.173\n",
      "Batch #27 MSE: 20.936\n",
      "Batch #28 MSE: 32.896\n",
      "Batch #29 MSE: 9.488\n",
      "Batch #30 MSE: 97.767\n",
      "Batch #31 MSE: 22.78\n",
      "Batch #32 MSE: 23.397\n",
      "Batch #33 MSE: 13.469\n",
      "Batch #34 MSE: 18.261\n",
      "Batch #35 MSE: 6.264\n",
      "Batch #36 MSE: 48.655\n",
      "Batch #37 MSE: 3.42\n",
      "Batch #38 MSE: 5.615\n",
      "Batch #39 MSE: 3.842\n",
      "Batch #40 MSE: 0.508\n",
      "Batch #41 MSE: 1.619\n",
      "Batch #42 MSE: 1.731\n",
      "Batch #43 MSE: 13.07\n"
     ]
    }
   ],
   "source": [
    "#prediction = tf.arg_min(distance, 0)\n",
    "top_k_xvals, top_k_indices = tf.nn.top_k(tf.negative(distance), k=k)\n",
    "x_sums = tf.expand_dims(tf.reduce_sum(top_k_xvals, 1),1)\n",
    "x_sums_repeated = tf.matmul(x_sums,tf.ones([1, k], tf.float32))\n",
    "x_val_weights = tf.expand_dims(tf.div(top_k_xvals,x_sums_repeated), 1)\n",
    "\n",
    "# tf.gather is just an array-lookup function\n",
    "top_k_yvals = tf.gather(y_target_train, top_k_indices)\n",
    "prediction = tf.squeeze(tf.matmul(x_val_weights,top_k_yvals), axis=[1])\n",
    "#prediction = tf.reduce_mean(top_k_yvals, 1)\n",
    "\n",
    "# Calculate MSE\n",
    "mse = tf.div(tf.reduce_sum(tf.square(tf.subtract(prediction, y_target_test))), batch_size)\n",
    "\n",
    "# Calculate how many loops over training data\n",
    "num_loops = int(np.ceil(len(x_vals_test)/batch_size))\n",
    "\n",
    "predictions = []\n",
    "y_batches = []\n",
    "for i in range(num_loops):\n",
    "    min_index = i*batch_size\n",
    "    max_index = min((i+1)*batch_size,len(x_vals_train))\n",
    "    x_batch = x_vals_test[min_index:max_index]\n",
    "    y_batch = y_vals_test[min_index:max_index]\n",
    "    temp_predictions = sess.run(prediction, feed_dict={x_data_train: x_vals_train, x_data_test: x_batch,\n",
    "                                         y_target_train: y_vals_train, y_target_test: y_batch})\n",
    "    batch_mse = sess.run(mse, feed_dict={x_data_train: x_vals_train, x_data_test: x_batch,\n",
    "                                         y_target_train: y_vals_train, y_target_test: y_batch})\n",
    "    predictions.append(temp_predictions)\n",
    "    y_batches.append(y_batch)\n",
    "    print('Batch #' + str(i+1) + ' MSE: ' + str(np.round(batch_mse,3)))"
   ]
  },
  {
   "cell_type": "code",
   "execution_count": 26,
   "metadata": {},
   "outputs": [
    {
     "data": {
      "image/png": "[encoded data removed]",
      "text/plain": [
       "<matplotlib.figure.Figure at 0x7f7698b5fb00>"
      ]
     },
     "metadata": {},
     "output_type": "display_data"
    }
   ],
   "source": [
    "%matplotlib inline\n",
    "predictions = np.array(predictions).reshape(-1,1)\n",
    "y_batches = np.array(y_batches).reshape(-1,1)\n",
    "# Plot prediction and actual distribution\n",
    "bins = np.linspace(5, 50, 45)\n",
    "\n",
    "plt.hist(predictions, bins, alpha=0.6, label='Prediction')\n",
    "plt.hist(y_batches, bins, alpha=0.4, label='Actual')\n",
    "plt.title('Histogram of Predicted and Actual Values')\n",
    "plt.xlabel('Med Home Value in $1,000s')\n",
    "plt.ylabel('Frequency')\n",
    "plt.legend(loc='upper right')\n",
    "plt.show()"
   ]
  },
  {
   "cell_type": "code",
   "execution_count": null,
   "metadata": {},
   "outputs": [],
   "source": []
  }
 ],
 "metadata": {
  "kernelspec": {
   "display_name": "Python 3",
   "language": "python",
   "name": "python3"
  },
  "language_info": {
   "codemirror_mode": {
    "name": "ipython",
    "version": 3
   },
   "file_extension": ".py",
   "mimetype": "text/x-python",
   "name": "python",
   "nbconvert_exporter": "python",
   "pygments_lexer": "ipython3",
   "version": "3.5.2"
  }
 },
 "nbformat": 4,
 "nbformat_minor": 2
}
