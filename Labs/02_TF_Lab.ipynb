{
 "cells": [
  {
   "cell_type": "code",
   "execution_count": 7,
   "metadata": {},
   "outputs": [],
   "source": [
    "import os\n",
    "import numpy as np\n",
    "import tensorflow as tf"
   ]
  },
  {
   "cell_type": "markdown",
   "metadata": {},
   "source": [
    "## Using Namescopes, Graphs, and Matrix Manipulation"
   ]
  },
  {
   "cell_type": "markdown",
   "metadata": {},
   "source": [
    "### Exercise -  Create and run a computational graph that does the following:\n",
    "* Under the name scope \"Inputs\":\n",
    "    * Create 3 different 10x10 matrices - `A`, `B`, and `C` each of which are filled with random numbers from a normal gaussian distribution and that have a mean of 1, 3, and 5 respectively.\n",
    "$$$$    \n",
    "* Under the name scope \"Concats\":\n",
    "    * Create matrix `D` by concatenating `A` and `B` along the column dimension\n",
    "    * Create matrix `E` by concatenating `B` and `C` along the column dimension\n",
    "$$$$\n",
    "* Under the name scope \"Split\":\n",
    "    * Create matrices `F` and `G` by splitting matrix B along the row dimension\n",
    "$$$$\n",
    "* Create matrix `H` which should be the column-wise mean of `B`\n",
    "* Matrix I should be the mean of each column of `B` multiplied using broadcasting over `H`\n",
    "$$$$\n",
    "* Print the means of D, E, F and I\n",
    "* Print the shape of E, F, G and H\n",
    "$$$$\n",
    "* For extra credit, add additional names that will provide even further clarification when we view this as a graph in TensorBoard"
   ]
  },
  {
   "cell_type": "code",
   "execution_count": 2,
   "metadata": {},
   "outputs": [],
   "source": []
  },
  {
   "cell_type": "code",
   "execution_count": 3,
   "metadata": {},
   "outputs": [],
   "source": []
  },
  {
   "cell_type": "code",
   "execution_count": 6,
   "metadata": {},
   "outputs": [],
   "source": []
  },
  {
   "cell_type": "code",
   "execution_count": null,
   "metadata": {},
   "outputs": [],
   "source": []
  }
 ],
 "metadata": {
  "kernelspec": {
   "display_name": "Python 3",
   "language": "python",
   "name": "python3"
  },
  "language_info": {
   "codemirror_mode": {
    "name": "ipython",
    "version": 3
   },
   "file_extension": ".py",
   "mimetype": "text/x-python",
   "name": "python",
   "nbconvert_exporter": "python",
   "pygments_lexer": "ipython3",
   "version": "3.5.2"
  }
 },
 "nbformat": 4,
 "nbformat_minor": 2
}
